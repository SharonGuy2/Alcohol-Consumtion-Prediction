{
 "cells": [
  {
   "cell_type": "code",
   "execution_count": 27,
   "metadata": {},
   "outputs": [],
   "source": [
    "import pandas as pd\n",
    "import requests\n",
    "import bs4\n",
    "from bs4 import BeautifulSoup\n",
    "import time\n",
    "import numpy as np\n",
    "import os"
   ]
  },
  {
   "cell_type": "code",
   "execution_count": 2,
   "metadata": {},
   "outputs": [],
   "source": [
    "def find_url_table_4(soup,base_url):\n",
    "    Flag = 'None'\n",
    "    soup = soup('a')\n",
    "    for a in soup:\n",
    "        if a.text.strip().__contains__('Table 4'):\n",
    "            link = a['href']\n",
    "            Flag = 'Have'\n",
    "\n",
    "    if (Flag == 'Have'):\n",
    "        url = base_url + link\n",
    "        return url\n",
    "    else:\n",
    "        return 'Last page'"
   ]
  },
  {
   "cell_type": "code",
   "execution_count": 3,
   "metadata": {},
   "outputs": [],
   "source": [
    "def create_country_list(soup):\n",
    "    country_list = list()\n",
    "    n = soup('strong')\n",
    "    for x in n:\n",
    "        if not x.text.strip().__contains__('Table 4'):\n",
    "            country_list.append((x.text.strip()))\n",
    "    return country_list"
   ]
  },
  {
   "cell_type": "code",
   "execution_count": 4,
   "metadata": {},
   "outputs": [],
   "source": [
    "def create_drink_lists(soup):\n",
    "    beer_list = list()\n",
    "    wine_list = list()\n",
    "    spirits_list = list()\n",
    "    beverages_list = list()\n",
    "\n",
    "    beer_spirits = soup('td', attrs={'class': 'datagray'})\n",
    "    wine_beverages = soup('td', attrs={'class': 'data'})\n",
    "\n",
    "    for x in range(1, beer_spirits.__len__(), 3):\n",
    "        beer_list.append(beer_spirits[x-1].text.strip())\n",
    "        spirits_list.append(beer_spirits[x].text.strip())\n",
    "\n",
    "    for x in range(1, wine_beverages.__len__(), 2):\n",
    "        wine_list.append(wine_beverages[x - 1].text.strip())\n",
    "        beverages_list.append(wine_beverages[x].text.strip())\n",
    "\n",
    "    return beer_list, wine_list, spirits_list, beverages_list"
   ]
  },
  {
   "cell_type": "code",
   "execution_count": 19,
   "metadata": {},
   "outputs": [],
   "source": [
    "def saving_data_to_df(beer_list, wine_list, spirits_list, beverages_list, country_list):\n",
    "    rows = country_list.__len__() * 4\n",
    "    cols = 45  # all years + 1 for type + 1 country.\n",
    "    matrix = np.zeros((rows, cols))\n",
    "    r = 0\n",
    "    for x in range(3, rows, 4):\n",
    "        matrix[x - 3][1] = 1\n",
    "        matrix[x - 2][1] = 2\n",
    "        matrix[x - 1][1] = 3\n",
    "        matrix[x][1] = 4\n",
    "        for c in range(2, cols):\n",
    "            matrix[x - 3][c] = beer_list[r]\n",
    "            matrix[x - 2][c] = wine_list[r]\n",
    "            matrix[x - 1][c] = spirits_list[r]\n",
    "            matrix[x][c] = beverages_list[r]\n",
    "            r += 1\n",
    "\n",
    "    df = pd.DataFrame(matrix)\n",
    "    country_list_x4 = list()\n",
    "    for country in country_list:\n",
    "        country_list_x4 += 4 * [country]\n",
    "\n",
    "    df[1] = df[1].astype(int)\n",
    "    df[0] = df[0].astype(object)\n",
    "    df[0] = country_list_x4\n",
    "    return df"
   ]
  },
  {
   "cell_type": "code",
   "execution_count": 20,
   "metadata": {},
   "outputs": [],
   "source": [
    "def load_soup_object(url):\n",
    "    source_code = requests.get(url)\n",
    "    plain_text = source_code.text\n",
    "    #soup = BeautifulSoup(plain_text)\n",
    "    soup = BeautifulSoup(plain_text,features=\"lxml\") # added...\n",
    "    return soup"
   ]
  },
  {
   "cell_type": "code",
   "execution_count": 21,
   "metadata": {},
   "outputs": [],
   "source": [
    "def save_csv(dataframe, csv_name, folder_name):\n",
    "    csv_path = folder_name + os.sep + csv_name\n",
    "    dataframe.to_csv(csv_path)"
   ]
  },
  {
   "cell_type": "code",
   "execution_count": 22,
   "metadata": {},
   "outputs": [],
   "source": [
    "base_url='https://pubs.niaaa.nih.gov/publications/'\n",
    "url = base_url + 'surveillance.htm'\n",
    "soup = load_soup_object(url)\n",
    "\n",
    "country_list = list()\n",
    "#drink_list = list()"
   ]
  },
  {
   "cell_type": "code",
   "execution_count": 24,
   "metadata": {},
   "outputs": [],
   "source": [
    "soup = soup('a', attrs={'target': '_blank'})\n",
    "for a in soup:\n",
    "    if a.text.strip().__contains__('Surveillance Report #117'):\n",
    "        link = a['href']\n",
    "url = base_url + link\n",
    "soup = load_soup_object(url)\n",
    "base_url = base_url + 'surveillance117/'"
   ]
  },
  {
   "cell_type": "code",
   "execution_count": 25,
   "metadata": {},
   "outputs": [],
   "source": [
    "url = find_url_table_4(soup, base_url)\n",
    "soup = load_soup_object(url)\n",
    "country_list = create_country_list(soup)\n",
    "beer_list, wine_list, spirits_list, beverages_list = create_drink_lists(soup)\n",
    "df1 = saving_data_to_df(beer_list, wine_list, spirits_list, beverages_list, country_list)\n",
    "url = find_url_table_4(soup, base_url)\n",
    "#soup = load_soup_object(url)\n",
    "while (url != 'Last page'):\n",
    "#soup = load_soup_object(url)\n",
    "    soup = load_soup_object(url)\n",
    "    country_list = create_country_list(soup)\n",
    "    beer_list, wine_list, spirits_list, beverages_list = create_drink_lists(soup)\n",
    "    df2 = saving_data_to_df(beer_list, wine_list, spirits_list, beverages_list, country_list)\n",
    "    df1 = [df1, df2]\n",
    "    df1 = pd.concat(df1)\n",
    "    url = find_url_table_4(soup, base_url)"
   ]
  },
  {
   "cell_type": "code",
   "execution_count": 29,
   "metadata": {},
   "outputs": [],
   "source": [
    "df3=df1.rename(columns={0: 'Country', 1: 'Drink type'},inplace = False)\n",
    "for i in range(2, 45):\n",
    "    df3= df3.rename(columns = {i: (2019-i+2)}, inplace = False)\n",
    "\n",
    "index_list = list()\n",
    "for i in range(0,224):\n",
    "    index_list.append(i)\n",
    "\n",
    "df3.index = index_list\n",
    "save_csv(df3, 'niaaa_nih.csv', 'niaaa.nih')"
   ]
  },
  {
   "cell_type": "code",
   "execution_count": null,
   "metadata": {},
   "outputs": [],
   "source": [
    "df"
   ]
  }
 ],
 "metadata": {
  "kernelspec": {
   "display_name": "Python 3",
   "language": "python",
   "name": "python3"
  },
  "language_info": {
   "codemirror_mode": {
    "name": "ipython",
    "version": 3
   },
   "file_extension": ".py",
   "mimetype": "text/x-python",
   "name": "python",
   "nbconvert_exporter": "python",
   "pygments_lexer": "ipython3",
   "version": "3.9.1"
  }
 },
 "nbformat": 4,
 "nbformat_minor": 4
}
