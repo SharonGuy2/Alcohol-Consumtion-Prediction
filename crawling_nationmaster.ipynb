{
 "cells": [
  {
   "cell_type": "markdown",
   "metadata": {},
   "source": [
    "## The DF generated after crawling the NationMaster site was not used eventually due to duplicated data."
   ]
  },
  {
   "cell_type": "code",
   "execution_count": 2,
   "metadata": {},
   "outputs": [],
   "source": [
    "import pandas as pd\n",
    "import requests\n",
    "import bs4\n",
    "from bs4 import BeautifulSoup\n",
    "#import scipy as sc\n",
    "#import numpy as np\n",
    "import time\n",
    "import os"
   ]
  },
  {
   "cell_type": "code",
   "execution_count": 3,
   "metadata": {},
   "outputs": [],
   "source": [
    "def load_soup_object(url):\n",
    "    source_code = requests.get(url)\n",
    "    plain_text = source_code.text\n",
    "    #soup = BeautifulSoup(plain_text)\n",
    "    soup = BeautifulSoup(plain_text,features=\"lxml\") # added...\n",
    "    return soup"
   ]
  },
  {
   "cell_type": "code",
   "execution_count": 4,
   "metadata": {},
   "outputs": [],
   "source": [
    "def save_csv(dataframe, csv_name, folder_name):\n",
    "    csv_path = folder_name + os.sep + csv_name\n",
    "    dataframe.to_csv(csv_path)"
   ]
  },
  {
   "cell_type": "code",
   "execution_count": 5,
   "metadata": {},
   "outputs": [],
   "source": [
    "def divide_and_save_to_df(country_name, mixed_data):\n",
    "    num = mixed_data.__len__()\n",
    "    year = list()\n",
    "    consumption = list()\n",
    "    for x in range(1, num, 2):\n",
    "        year.append(mixed_data[x-1].strip())\n",
    "        consumption.append(mixed_data[x].strip())\n",
    "    df = pd.DataFrame({\"Country\": country_name, \"Year\": year, \"Consumption\": consumption})\n",
    "    return df"
   ]
  },
  {
   "cell_type": "code",
   "execution_count": 6,
   "metadata": {},
   "outputs": [],
   "source": [
    "base_url='https://www.nationmaster.com'\n",
    "url = base_url + '/nmx/sector/alcoholic-drink'\n",
    "soup = load_soup_object(url)"
   ]
  },
  {
   "cell_type": "code",
   "execution_count": 7,
   "metadata": {},
   "outputs": [],
   "source": [
    "# find a category list for alcoholic-drinks .\n",
    "drink_link = list()\n",
    "soup = soup('a', attrs={'data-event-action': 'Click Sector'})\n",
    "for obj in soup:\n",
    "    if not obj.text.__contains__('Cider'):\n",
    "        drink_link.append(obj['href'])\n",
    "\n",
    "time.sleep(0.5)"
   ]
  },
  {
   "cell_type": "code",
   "execution_count": 8,
   "metadata": {},
   "outputs": [],
   "source": [
    "country_link = list()\n",
    "country_name = list()\n",
    "year_and_value = list()\n",
    "\n",
    "for page in drink_link:\n",
    "    url = base_url + page\n",
    "    soup = load_soup_object(url)\n",
    "    soup = soup('a', attrs={'data-event-action': 'Click Ranking 1'})\n",
    "    for obj in soup:\n",
    "        if obj.text.strip().__contains__('Consumption'):\n",
    "            link = obj['href']\n",
    "    url = base_url + link\n",
    "    time.sleep(0.5)\n",
    "    soup = load_soup_object(url)\n",
    "    soup = soup('a', attrs={'class':'cta cta-series-data'})\n",
    "    for obj in soup: # country_link of links.\n",
    "        country_link.append(obj['href'])\n",
    "\n",
    "    for country in country_link:\n",
    "        time.sleep(0.5)\n",
    "        url = base_url + country\n",
    "        soup = load_soup_object(url)\n",
    "        name_soup = soup('h1') # for country name.\n",
    "        country_name += 5 * [name_soup[0].text.strip()]\n",
    "        table_soup = soup('table')\n",
    "        table_td = table_soup[0].findAll('td')\n",
    "        for td in table_td:\n",
    "            year_and_value.append(td.text.strip())"
   ]
  },
  {
   "cell_type": "code",
   "execution_count": 9,
   "metadata": {},
   "outputs": [],
   "source": [
    "df = divide_and_save_to_df(country_name, year_and_value) \n",
    "save_csv(df, 'nation.csv', 'nationmaster')"
   ]
  },
  {
   "cell_type": "code",
   "execution_count": null,
   "metadata": {},
   "outputs": [],
   "source": []
  }
 ],
 "metadata": {
  "kernelspec": {
   "display_name": "Python 3",
   "language": "python",
   "name": "python3"
  },
  "language_info": {
   "codemirror_mode": {
    "name": "ipython",
    "version": 3
   },
   "file_extension": ".py",
   "mimetype": "text/x-python",
   "name": "python",
   "nbconvert_exporter": "python",
   "pygments_lexer": "ipython3",
   "version": "3.9.1"
  }
 },
 "nbformat": 4,
 "nbformat_minor": 4
}
